{
 "cells": [
  {
   "cell_type": "code",
   "execution_count": 11,
   "metadata": {},
   "outputs": [],
   "source": [
    "import pandas as pd\n",
    "import statsmodels.api as sm\n",
    "from statsmodels.formula.api import ols"
   ]
  },
  {
   "cell_type": "code",
   "execution_count": 4,
   "metadata": {},
   "outputs": [],
   "source": [
    "df = pd.read_csv('Soils.csv')"
   ]
  },
  {
   "cell_type": "code",
   "execution_count": 6,
   "metadata": {},
   "outputs": [
    {
     "name": "stdout",
     "output_type": "stream",
     "text": [
      "   Unnamed: 0  Group Contour  Depth  Gp  Block    pH      N  Dens    P     Ca  \\\n",
      "0           1      1     Top   0-10  T0      1  5.40  0.188  0.92  215  16.35   \n",
      "1           2      1     Top   0-10  T0      2  5.65  0.165  1.04  208  12.25   \n",
      "2           3      1     Top   0-10  T0      3  5.14  0.260  0.95  300  13.02   \n",
      "3           4      1     Top   0-10  T0      4  5.14  0.169  1.10  248  11.92   \n",
      "4           5      2     Top  10-30  T1      1  5.14  0.164  1.12  174  14.17   \n",
      "\n",
      "     Mg     K    Na  Conduc  \n",
      "0  7.65  0.72  1.14    1.09  \n",
      "1  5.15  0.71  0.94    1.35  \n",
      "2  5.68  0.68  0.60    1.41  \n",
      "3  7.88  1.09  1.01    1.64  \n",
      "4  8.12  0.70  2.17    1.85  \n"
     ]
    }
   ],
   "source": [
    "print(df.head())"
   ]
  },
  {
   "cell_type": "markdown",
   "metadata": {},
   "source": [
    "                           One-way Analysis"
   ]
  },
  {
   "cell_type": "code",
   "execution_count": 13,
   "metadata": {},
   "outputs": [],
   "source": [
    "# ols - Create a Model from a formula and dataframe.\n",
    "# https://www.statsmodels.org/stable/generated/statsmodels.formula.api.ols.html\n",
    "mod = ols(\"pH~Depth\", data = df).fit()"
   ]
  },
  {
   "cell_type": "code",
   "execution_count": 14,
   "metadata": {},
   "outputs": [],
   "source": [
    "aov = sm.stats.anova_lm(mod, type = 2)"
   ]
  },
  {
   "cell_type": "code",
   "execution_count": 15,
   "metadata": {},
   "outputs": [
    {
     "name": "stdout",
     "output_type": "stream",
     "text": [
      "            df     sum_sq   mean_sq          F        PR(>F)\n",
      "Depth      3.0  14.958973  4.986324  35.068327  9.810893e-12\n",
      "Residual  44.0   6.256308  0.142189        NaN           NaN\n"
     ]
    }
   ],
   "source": [
    "print(aov)"
   ]
  },
  {
   "cell_type": "markdown",
   "metadata": {},
   "source": [
    "                      two way factor analysis"
   ]
  },
  {
   "cell_type": "code",
   "execution_count": 21,
   "metadata": {},
   "outputs": [],
   "source": [
    "mod1 = ols(\"pH~Depth+Contour\", data = df).fit()"
   ]
  },
  {
   "cell_type": "code",
   "execution_count": 24,
   "metadata": {},
   "outputs": [],
   "source": [
    "aov1 = sm.stats.anova_lm(mod1, type = 2)"
   ]
  },
  {
   "cell_type": "code",
   "execution_count": 25,
   "metadata": {},
   "outputs": [
    {
     "name": "stdout",
     "output_type": "stream",
     "text": [
      "            df     sum_sq   mean_sq          F        PR(>F)\n",
      "Depth      3.0  14.958973  4.986324  34.929618  1.736182e-11\n",
      "Contour    2.0   0.260663  0.130331   0.912981  4.091423e-01\n",
      "Residual  42.0   5.995646  0.142753        NaN           NaN\n"
     ]
    }
   ],
   "source": [
    "print(aov1)"
   ]
  },
  {
   "cell_type": "code",
   "execution_count": 27,
   "metadata": {},
   "outputs": [],
   "source": [
    "#there for here no relation between contour and pH. p> 0.05"
   ]
  },
  {
   "cell_type": "code",
   "execution_count": 28,
   "metadata": {},
   "outputs": [],
   "source": [
    "mod1 = ols(\"pH~Depth+Block\", data = df).fit()"
   ]
  },
  {
   "cell_type": "code",
   "execution_count": 29,
   "metadata": {},
   "outputs": [],
   "source": [
    "aov1 = sm.stats.anova_lm(mod1, type = 2)"
   ]
  },
  {
   "cell_type": "code",
   "execution_count": 30,
   "metadata": {},
   "outputs": [
    {
     "name": "stdout",
     "output_type": "stream",
     "text": [
      "            df     sum_sq   mean_sq          F        PR(>F)\n",
      "Depth      3.0  14.958973  4.986324  39.274230  2.213912e-12\n",
      "Block      1.0   0.796954  0.796954   6.277118  1.609733e-02\n",
      "Residual  43.0   5.459355  0.126962        NaN           NaN\n"
     ]
    }
   ],
   "source": [
    "print(aov1)"
   ]
  },
  {
   "cell_type": "code",
   "execution_count": 31,
   "metadata": {},
   "outputs": [],
   "source": [
    "# blocks have significanse"
   ]
  },
  {
   "cell_type": "code",
   "execution_count": 32,
   "metadata": {},
   "outputs": [],
   "source": [
    "mod1 = ols(\"pH~Depth+Block+Depth*Block\", data = df).fit()"
   ]
  },
  {
   "cell_type": "code",
   "execution_count": 33,
   "metadata": {},
   "outputs": [],
   "source": [
    "aov1 = sm.stats.anova_lm(mod1, type = 2)"
   ]
  },
  {
   "cell_type": "code",
   "execution_count": 34,
   "metadata": {},
   "outputs": [
    {
     "name": "stdout",
     "output_type": "stream",
     "text": [
      "               df     sum_sq   mean_sq          F        PR(>F)\n",
      "Depth         3.0  14.958973  4.986324  37.786849  9.459884e-12\n",
      "Block         1.0   0.796954  0.796954   6.039393  1.842085e-02\n",
      "Depth:Block   3.0   0.180985  0.060328   0.457173  7.137201e-01\n",
      "Residual     40.0   5.278370  0.131959        NaN           NaN\n"
     ]
    }
   ],
   "source": [
    "print(aov1)"
   ]
  }
 ],
 "metadata": {
  "kernelspec": {
   "display_name": "Python 3",
   "language": "python",
   "name": "python3"
  },
  "language_info": {
   "codemirror_mode": {
    "name": "ipython",
    "version": 3
   },
   "file_extension": ".py",
   "mimetype": "text/x-python",
   "name": "python",
   "nbconvert_exporter": "python",
   "pygments_lexer": "ipython3",
   "version": "3.8.3"
  }
 },
 "nbformat": 4,
 "nbformat_minor": 4
}
